{
 "cells": [
  {
   "cell_type": "code",
   "execution_count": 96,
   "metadata": {},
   "outputs": [],
   "source": [
    "EXPERIMENT_NAME = \"systema_1epoch\""
   ]
  },
  {
   "cell_type": "code",
   "execution_count": 97,
   "metadata": {},
   "outputs": [],
   "source": [
    "import csv\n",
    "results = []\n",
    "with open(f'results/{EXPERIMENT_NAME}.csv', 'r') as csvfile:\n",
    "    reader = csv.reader(csvfile, delimiter='|')\n",
    "    reader.__next__()\n",
    "    for row in reader:\n",
    "        results.append(row)"
   ]
  },
  {
   "cell_type": "code",
   "execution_count": 98,
   "metadata": {},
   "outputs": [],
   "source": [
    "def cal_scores (golds, preds):\n",
    "    pr, re, f1 = 0,0,0\n",
    "    if len(golds) == 0: \n",
    "        re = 1 \n",
    "    else:\n",
    "        hit = 0\n",
    "        for item in golds:\n",
    "            if item in preds: hit += 1\n",
    "        re = hit/len(golds)\n",
    "    if len(preds) == 0: \n",
    "        pr = 1 \n",
    "    else:\n",
    "        hit = 0\n",
    "        for item in preds:\n",
    "            if item in golds: hit += 1\n",
    "        pr = hit/len(preds)\n",
    "    if re + pr == 0:\n",
    "        f1 = 1\n",
    "    else:\n",
    "        f1 = (2*re*pr) / (re+pr)\n",
    "    return pr, re, f1"
   ]
  },
  {
   "cell_type": "code",
   "execution_count": 99,
   "metadata": {},
   "outputs": [
    {
     "name": "stderr",
     "output_type": "stream",
     "text": [
      "  0%|          | 0/16450 [00:00<?, ?it/s]"
     ]
    },
    {
     "name": "stderr",
     "output_type": "stream",
     "text": [
      "100%|██████████| 16450/16450 [00:00<00:00, 119384.19it/s]\n"
     ]
    }
   ],
   "source": [
    "from tqdm import tqdm \n",
    "\n",
    "annotated_results = []\n",
    "f_tot = 0\n",
    "for res in tqdm(results):\n",
    "    q = res[0]\n",
    "    golds = res[1].split()\n",
    "    preds = res[2].split()\n",
    "    precision, recall, fscore = cal_scores(golds, preds)\n",
    "    f_tot += fscore\n",
    "    annotated_results.append([golds, preds, precision, recall, fscore])"
   ]
  },
  {
   "cell_type": "code",
   "execution_count": 101,
   "metadata": {},
   "outputs": [],
   "source": [
    "with open(f'results/{EXPERIMENT_NAME}_evaluated.csv', 'w') as csvfile:\n",
    "    writer = csv.writer(csvfile, delimiter='\\t')\n",
    "    writer.writerow(['golds', 'predictions', 'precision', 'recall', 'fscore'])\n",
    "    for row in annotated_results:\n",
    "        writer.writerow(row)"
   ]
  }
 ],
 "metadata": {
  "kernelspec": {
   "display_name": "Python 3",
   "language": "python",
   "name": "python3"
  },
  "language_info": {
   "codemirror_mode": {
    "name": "ipython",
    "version": 3
   },
   "file_extension": ".py",
   "mimetype": "text/x-python",
   "name": "python",
   "nbconvert_exporter": "python",
   "pygments_lexer": "ipython3",
   "version": "3.10.12"
  }
 },
 "nbformat": 4,
 "nbformat_minor": 2
}
