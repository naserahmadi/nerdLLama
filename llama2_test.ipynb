{
 "cells": [
  {
   "cell_type": "markdown",
   "metadata": {},
   "source": [
    "# Load PEFT Model"
   ]
  },
  {
   "cell_type": "code",
   "execution_count": null,
   "metadata": {},
   "outputs": [],
   "source": [
    "import torch\n",
    "from peft import AutoPeftModelForCausalLM\n",
    "from transformers import AutoTokenizer\n",
    "\n",
    "train_model_output_dir = \"llama-7-int4-ner-a/checkpoint-119\"\n",
    "\n",
    "train_model = AutoPeftModelForCausalLM.from_pretrained(\n",
    "    train_model_output_dir,\n",
    "    low_cpu_mem_usage=True,\n",
    "    torch_dtype=torch.float16,\n",
    "    load_in_4bit=True,\n",
    "    device_map=\"auto\"\n",
    ")\n",
    "train_tokenizer = AutoTokenizer.from_pretrained(train_model_output_dir)"
   ]
  },
  {
   "cell_type": "code",
   "execution_count": 2,
   "metadata": {},
   "outputs": [],
   "source": [
    "from datasets import load_dataset\n",
    "test_dataset = load_dataset('json', data_files='data/a/test.jsonl',split=\"train\")"
   ]
  },
  {
   "cell_type": "code",
   "execution_count": 3,
   "metadata": {},
   "outputs": [
    {
     "data": {
      "text/plain": [
       "16454"
      ]
     },
     "execution_count": 3,
     "metadata": {},
     "output_type": "execute_result"
    }
   ],
   "source": [
    "len(test_dataset)"
   ]
  },
  {
   "cell_type": "markdown",
   "metadata": {},
   "source": [
    "# Save the results to csv"
   ]
  },
  {
   "cell_type": "code",
   "execution_count": null,
   "metadata": {},
   "outputs": [],
   "source": [
    "from transformers import (\n",
    "    pipeline,\n",
    ")\n",
    "from tqdm import tqdm\n",
    "import csv \n",
    "\n",
    "results = []\n",
    "\n",
    "with open('results/systema_1epoch.csv', 'w') as csvfile:\n",
    "    writer = csv.writer(csvfile, delimiter='|')\n",
    "    writer.writerow(['sentence', 'gold', 'predicted'])\n",
    "        \n",
    "    for item in tqdm(test_dataset):\n",
    "        q = item['instruction']\n",
    "        gold = item['output']\n",
    "\n",
    "        pipe = pipeline(task=\"text-generation\", model=train_model, tokenizer=train_tokenizer, max_length=200)\n",
    "        result = pipe(f\"<s>[INST] {q }[/INST]\")\n",
    "        try:\n",
    "            pred = result[0]['generated_text'].split('\\\\n')[1].strip()\n",
    "        \n",
    "            writer.writerow([q,gold,pred])\n",
    "            csvfile.flush()\n",
    "            results.append([q, gold, pred])\n",
    "        except:\n",
    "            pass"
   ]
  }
 ],
 "metadata": {
  "kernelspec": {
   "display_name": "Python 3 (ipykernel)",
   "language": "python",
   "name": "python3"
  },
  "language_info": {
   "codemirror_mode": {
    "name": "ipython",
    "version": 3
   },
   "file_extension": ".py",
   "mimetype": "text/x-python",
   "name": "python",
   "nbconvert_exporter": "python",
   "pygments_lexer": "ipython3",
   "version": "3.10.12"
  }
 },
 "nbformat": 4,
 "nbformat_minor": 2
}
