{
 "cells": [
  {
   "cell_type": "code",
   "execution_count": 32,
   "metadata": {},
   "outputs": [],
   "source": [
    "ner_tags = {\n",
    "    \"O\": 0,\n",
    "    \"B-PER\": 1,\n",
    "    \"I-PER\": 2,\n",
    "    \"B-ORG\": 3,\n",
    "    \"I-ORG\": 4,\n",
    "    \"B-LOC\": 5,\n",
    "    \"I-LOC\": 6,\n",
    "    \"B-ANIM\": 7,\n",
    "    \"I-ANIM\": 8,\n",
    "    \"B-BIO\": 9,\n",
    "    \"I-BIO\": 10,\n",
    "    \"B-CEL\": 11,\n",
    "    \"I-CEL\": 12,\n",
    "    \"B-DIS\": 13,\n",
    "    \"I-DIS\": 14,\n",
    "    \"B-EVE\": 15,\n",
    "    \"I-EVE\": 16,\n",
    "    \"B-FOOD\": 17,\n",
    "    \"I-FOOD\": 18,\n",
    "    \"B-INST\": 19,\n",
    "    \"I-INST\": 20,\n",
    "    \"B-MEDIA\": 21,\n",
    "    \"I-MEDIA\": 22,\n",
    "    \"B-MYTH\": 23,\n",
    "    \"I-MYTH\": 24,\n",
    "    \"B-PLANT\": 25,\n",
    "    \"I-PLANT\": 26,\n",
    "    \"B-TIME\": 27,\n",
    "    \"I-TIME\": 28,\n",
    "    \"B-VEHI\": 29,\n",
    "    \"I-VEHI\": 30,\n",
    "  }\n",
    "\n",
    "tags_ner = {ner_tags[n]:n for n in ner_tags }\n"
   ]
  },
  {
   "cell_type": "markdown",
   "metadata": {},
   "source": [
    "# Data Preparation for SystemA"
   ]
  },
  {
   "cell_type": "code",
   "execution_count": 43,
   "metadata": {},
   "outputs": [
    {
     "name": "stderr",
     "output_type": "stream",
     "text": [
      "16454it [00:00, 17730.83it/s]\n",
      "131280it [00:06, 19236.77it/s]\n",
      "16410it [00:01, 16006.01it/s]\n"
     ]
    }
   ],
   "source": [
    "import pandas as pd   \n",
    "from tqdm import tqdm\n",
    "  \n",
    "for f in ['test_test_en','train_en','val_val_en']:\n",
    "    file = pd.read_json(path_or_buf=f'data/{f}.jsonl', lines=True)\n",
    "    items = []\n",
    "    for index, row in tqdm(file.iterrows()):\n",
    "        sent = ' '.join([tok for tok in row['tokens']])\n",
    "        ners = ''\n",
    "        for tok, ner in zip(row['tokens'], row['ner_tags']):\n",
    "            if ner not in [0]:\n",
    "                if ners != '':\n",
    "                    ners += ', '\n",
    "                ners += tok + ':' + tags_ner[ner]\n",
    "        items.append((sent,ners))\n",
    "    \n",
    "    df = pd.DataFrame(items, columns=['sentence', 'ner'])\n",
    "    \n",
    "    df.to_json(f'data/a/{f}.jsonl', orient='records', lines= True)\n",
    "    \n"
   ]
  },
  {
   "cell_type": "markdown",
   "metadata": {},
   "source": [
    "# Data Preparation for SystemB"
   ]
  },
  {
   "cell_type": "code",
   "execution_count": 44,
   "metadata": {},
   "outputs": [
    {
     "name": "stderr",
     "output_type": "stream",
     "text": [
      "16454it [00:00, 17592.47it/s]\n",
      "131280it [00:06, 19002.84it/s]\n",
      "16410it [00:01, 15314.24it/s]\n"
     ]
    }
   ],
   "source": [
    "import pandas as pd   \n",
    "from tqdm import tqdm\n",
    "  \n",
    "for f in ['test_test_en','train_en','val_val_en']:\n",
    "    file = pd.read_json(path_or_buf=f'data/{f}.jsonl', lines=True)\n",
    "    items = []\n",
    "    for index, row in tqdm(file.iterrows()):\n",
    "        sent = ' '.join([tok for tok in row['tokens']])\n",
    "        ners = ''\n",
    "        for tok, ner in zip(row['tokens'], row['ner_tags']):\n",
    "            if ner in [1,2,3,4,5,6,7,8,13,14 ]:\n",
    "                if ners != '':\n",
    "                    ners += ', '\n",
    "                ners += tok + ':' + tags_ner[ner]\n",
    "        items.append((sent,ners))\n",
    "    \n",
    "    df = pd.DataFrame(items, columns=['sentence', 'ner'])\n",
    "    \n",
    "    df.to_json(f'data/b/{f}.jsonl', orient='records', lines= True)"
   ]
  }
 ],
 "metadata": {
  "kernelspec": {
   "display_name": "Python 3",
   "language": "python",
   "name": "python3"
  },
  "language_info": {
   "codemirror_mode": {
    "name": "ipython",
    "version": 3
   },
   "file_extension": ".py",
   "mimetype": "text/x-python",
   "name": "python",
   "nbconvert_exporter": "python",
   "pygments_lexer": "ipython3",
   "version": "3.10.12"
  }
 },
 "nbformat": 4,
 "nbformat_minor": 2
}
